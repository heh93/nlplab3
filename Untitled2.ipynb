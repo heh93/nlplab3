{
 "cells": [
  {
   "cell_type": "code",
   "execution_count": 15,
   "id": "e29c54bc",
   "metadata": {},
   "outputs": [
    {
     "name": "stdout",
     "output_type": "stream",
     "text": [
      "Accuracy: 0.0\n",
      "\n",
      "Classification Report:\n",
      "              precision    recall  f1-score   support\n",
      "\n",
      "        1992       0.00      0.00      0.00      10.0\n",
      "        1993       0.00      0.00      0.00      10.0\n",
      "        1994       0.00      0.00      0.00      10.0\n",
      "        1995       0.00      0.00      0.00      14.0\n",
      "        1996       0.00      0.00      0.00      15.0\n",
      "        1997       0.00      0.00      0.00       9.0\n",
      "        1998       0.00      0.00      0.00       9.0\n",
      "        1999       0.00      0.00      0.00       5.0\n",
      "        2000       0.00      0.00      0.00      15.0\n",
      "        2001       0.00      0.00      0.00      10.0\n",
      "        2002       0.00      0.00      0.00      13.0\n",
      "        2003       0.00      0.00      0.00       5.0\n",
      "        2004       0.00      0.00      0.00      10.0\n",
      "        2012       0.00      0.00      0.00      13.0\n",
      "        2013       0.00      0.00      0.00      10.0\n",
      "        2014       0.00      0.00      0.00      11.0\n",
      "        2015       0.00      0.00      0.00      13.0\n",
      "        2016       0.00      0.00      0.00       6.0\n",
      "        2017       0.00      0.00      0.00       6.0\n",
      "        2018       0.00      0.00      0.00       7.0\n",
      "        2019       0.00      0.00      0.00      10.0\n",
      "\n",
      "    accuracy                           0.00     211.0\n",
      "   macro avg       0.00      0.00      0.00     211.0\n",
      "weighted avg       0.00      0.00      0.00     211.0\n",
      "\n"
     ]
    },
    {
     "name": "stderr",
     "output_type": "stream",
     "text": [
      "C:\\Users\\jughe\\AppData\\Local\\Programs\\Python\\Python311\\Lib\\site-packages\\sklearn\\metrics\\_classification.py:1565: UndefinedMetricWarning: Precision is ill-defined and being set to 0.0 in labels with no predicted samples. Use `zero_division` parameter to control this behavior.\n",
      "  _warn_prf(average, modifier, f\"{metric.capitalize()} is\", len(result))\n",
      "C:\\Users\\jughe\\AppData\\Local\\Programs\\Python\\Python311\\Lib\\site-packages\\sklearn\\metrics\\_classification.py:1565: UndefinedMetricWarning: Precision is ill-defined and being set to 0.0 in labels with no predicted samples. Use `zero_division` parameter to control this behavior.\n",
      "  _warn_prf(average, modifier, f\"{metric.capitalize()} is\", len(result))\n",
      "C:\\Users\\jughe\\AppData\\Local\\Programs\\Python\\Python311\\Lib\\site-packages\\sklearn\\metrics\\_classification.py:1565: UndefinedMetricWarning: Precision is ill-defined and being set to 0.0 in labels with no predicted samples. Use `zero_division` parameter to control this behavior.\n",
      "  _warn_prf(average, modifier, f\"{metric.capitalize()} is\", len(result))\n"
     ]
    }
   ],
   "source": [
    "import numpy as np\n",
    "import pandas as pd\n",
    "from sklearn.model_selection import train_test_split\n",
    "from sklearn.feature_extraction.text import CountVectorizer\n",
    "from sklearn.naive_bayes import MultinomialNB\n",
    "from sklearn.metrics import accuracy_score, classification_report\n",
    "# Load the financial dataset\n",
    "data = pd.read_csv(r\"C:\\Users\\jughe\\financial_datset.csv\") \n",
    "\n",
    "# Replace \"financial_dataset.csv\" with your dataset filename\n",
    "# Preprocess the data\n",
    "# Assuming the dataset has two columns: \"text\" containing the text data and \"sentiment\" containing sentiment labels\n",
    "X = data['Text']\n",
    "y = data['Sentiment']\n",
    "# Split the data into training and testing sets\n",
    "X_train, X_test, y_train, y_test = train_test_split(X, y, test_size=0.2, random_state=42)\n",
    "# Vectorize the text data using N-gram model\n",
    "vectorizer = CountVectorizer(ngram_range=(1, 2)) # You can adjust the n-gram range\n",
    "X_train_vectorized = vectorizer.fit_transform(X_train)\n",
    "X_test_vectorized = vectorizer.transform(X_test)\n",
    "# Train the classifier\n",
    "classifier = MultinomialNB()\n",
    "classifier.fit(X_train_vectorized, y_train)\n",
    "# Predict sentiment on the test set\n",
    "y_pred = classifier.predict(X_test_vectorized)\n",
    "# Evaluate the model\n",
    "accuracy = accuracy_score(y_test, y_pred)\n",
    "print(\"Accuracy:\", accuracy)\n",
    "# Display classification report\n",
    "print(\"\\nClassification Report:\")\n",
    "print(classification_report(y_test, y_pred))\n"
   ]
  },
  {
   "cell_type": "code",
   "execution_count": 5,
   "id": "7b1aeebe",
   "metadata": {},
   "outputs": [
    {
     "data": {
      "text/plain": [
       "'C:\\\\Users\\\\jughe'"
      ]
     },
     "execution_count": 5,
     "metadata": {},
     "output_type": "execute_result"
    }
   ],
   "source": [
    "os.getcwd()\n"
   ]
  },
  {
   "cell_type": "code",
   "execution_count": 4,
   "id": "eb9c7d1e",
   "metadata": {},
   "outputs": [],
   "source": [
    "import os"
   ]
  },
  {
   "cell_type": "code",
   "execution_count": 7,
   "id": "50d9fdd5",
   "metadata": {},
   "outputs": [
    {
     "ename": "SyntaxError",
     "evalue": "(unicode error) 'unicodeescape' codec can't decode bytes in position 2-3: truncated \\UXXXXXXXX escape (3533372226.py, line 1)",
     "output_type": "error",
     "traceback": [
      "\u001b[1;36m  Cell \u001b[1;32mIn[7], line 1\u001b[1;36m\u001b[0m\n\u001b[1;33m    os.chdir(\"C:\\Users\\jughe\\.jupyter\\financial_datset.csv\")\u001b[0m\n\u001b[1;37m                                                           ^\u001b[0m\n\u001b[1;31mSyntaxError\u001b[0m\u001b[1;31m:\u001b[0m (unicode error) 'unicodeescape' codec can't decode bytes in position 2-3: truncated \\UXXXXXXXX escape\n"
     ]
    }
   ],
   "source": [
    "os.chdir(\"C:\\Users\\jughe\\.jupyter\\financial_datset.csv\")"
   ]
  },
  {
   "cell_type": "code",
   "execution_count": null,
   "id": "9f58de3c",
   "metadata": {},
   "outputs": [],
   "source": []
  }
 ],
 "metadata": {
  "kernelspec": {
   "display_name": "Python 3 (ipykernel)",
   "language": "python",
   "name": "python3"
  },
  "language_info": {
   "codemirror_mode": {
    "name": "ipython",
    "version": 3
   },
   "file_extension": ".py",
   "mimetype": "text/x-python",
   "name": "python",
   "nbconvert_exporter": "python",
   "pygments_lexer": "ipython3",
   "version": "3.11.1"
  }
 },
 "nbformat": 4,
 "nbformat_minor": 5
}
