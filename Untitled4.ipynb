{
 "cells": [
  {
   "cell_type": "code",
   "execution_count": 4,
   "id": "ccb64640",
   "metadata": {},
   "outputs": [
    {
     "name": "stdout",
     "output_type": "stream",
     "text": [
      "Top terms for each topic:\n",
      "Topic 1: soccer basketball tennis cricket baseball\n",
      "Topic 2: cricket tennis soccer baseball basketball\n"
     ]
    }
   ],
   "source": [
    "import numpy as np\n",
    "from sklearn.decomposition import TruncatedSVD\n",
    "from sklearn.feature_extraction.text import CountVectorizer\n",
    "# Sample text data\n",
    "documents = [\n",
    " \"baseball soccer basketball\",\n",
    " \"soccer basketball tennis\",\n",
    " \"tennis cricket\",\n",
    " \"cricket soccer\"\n",
    "]\n",
    "# Create a CountVectorizer to convert text data into a matrix of token counts\n",
    "vectorizer = CountVectorizer()\n",
    "X = vectorizer.fit_transform(documents)\n",
    "# Apply Latent Semantic Analysis (LSA)\n",
    "lsa = TruncatedSVD(n_components=2) # You can adjust the number of components/topics\n",
    "lsa.fit(X)\n",
    "# Extract the components/topics\n",
    "terms = vectorizer.get_feature_names_out()\n",
    "topic_matrix = np.array([lsa.components_[i] / np.linalg.norm(lsa.components_[i]) for i in range(lsa.components_.shape[0])])\n",
    "# Print the topics\n",
    "print(\"Top terms for each topic:\")\n",
    "for i, topic in enumerate(topic_matrix):\n",
    " top_indices = topic.argsort()[-5:][::-1] # Get the top 5 terms for each topic\n",
    " top_terms = [terms[index] for index in top_indices]\n",
    " print(f\"Topic {i + 1}: {' '.join(top_terms)}\")"
   ]
  },
  {
   "cell_type": "code",
   "execution_count": null,
   "id": "d3c63a01",
   "metadata": {},
   "outputs": [],
   "source": []
  }
 ],
 "metadata": {
  "kernelspec": {
   "display_name": "Python 3 (ipykernel)",
   "language": "python",
   "name": "python3"
  },
  "language_info": {
   "codemirror_mode": {
    "name": "ipython",
    "version": 3
   },
   "file_extension": ".py",
   "mimetype": "text/x-python",
   "name": "python",
   "nbconvert_exporter": "python",
   "pygments_lexer": "ipython3",
   "version": "3.11.1"
  }
 },
 "nbformat": 4,
 "nbformat_minor": 5
}
