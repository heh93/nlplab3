{
 "cells": [
  {
   "cell_type": "code",
   "execution_count": 5,
   "id": "35f30f75",
   "metadata": {},
   "outputs": [
    {
     "name": "stderr",
     "output_type": "stream",
     "text": [
      "MultinomialHMM has undergone major changes. The previous version was implementing a CategoricalHMM (a special case of MultinomialHMM). This new implementation follows the standard definition for a Multinomial distribution (e.g. as in https://en.wikipedia.org/wiki/Multinomial_distribution). See these issues for details:\n",
      "https://github.com/hmmlearn/hmmlearn/issues/335\n",
      "https://github.com/hmmlearn/hmmlearn/issues/340\n"
     ]
    },
    {
     "ename": "TypeError",
     "evalue": "_AbstractHMM.fit() takes from 2 to 3 positional arguments but 4 were given",
     "output_type": "error",
     "traceback": [
      "\u001b[1;31m---------------------------------------------------------------------------\u001b[0m",
      "\u001b[1;31mTypeError\u001b[0m                                 Traceback (most recent call last)",
      "Cell \u001b[1;32mIn[5], line 17\u001b[0m\n\u001b[0;32m     15\u001b[0m \u001b[38;5;66;03m# Hidden Markov Model (HMM)\u001b[39;00m\n\u001b[0;32m     16\u001b[0m hmm_model \u001b[38;5;241m=\u001b[39m hmm\u001b[38;5;241m.\u001b[39mMultinomialHMM(n_components\u001b[38;5;241m=\u001b[39m\u001b[38;5;241m3\u001b[39m) \u001b[38;5;66;03m# Number of states\u001b[39;00m\n\u001b[1;32m---> 17\u001b[0m \u001b[43mhmm_model\u001b[49m\u001b[38;5;241;43m.\u001b[39;49m\u001b[43mfit\u001b[49m\u001b[43m(\u001b[49m\u001b[43mnp\u001b[49m\u001b[38;5;241;43m.\u001b[39;49m\u001b[43mconcatenate\u001b[49m\u001b[43m(\u001b[49m\u001b[43mX_train\u001b[49m\u001b[43m)\u001b[49m\u001b[43m,\u001b[49m\u001b[43m \u001b[49m\u001b[43m[\u001b[49m\u001b[38;5;28;43mlen\u001b[39;49m\u001b[43m(\u001b[49m\u001b[43mseq\u001b[49m\u001b[43m)\u001b[49m\u001b[43m \u001b[49m\u001b[38;5;28;43;01mfor\u001b[39;49;00m\u001b[43m \u001b[49m\u001b[43mseq\u001b[49m\u001b[43m \u001b[49m\u001b[38;5;129;43;01min\u001b[39;49;00m\u001b[43m \u001b[49m\u001b[43mX_train\u001b[49m\u001b[43m]\u001b[49m\u001b[43m,\u001b[49m\u001b[43m \u001b[49m\u001b[43m[\u001b[49m\u001b[43mitem\u001b[49m\u001b[43m \u001b[49m\u001b[38;5;28;43;01mfor\u001b[39;49;00m\u001b[43m \u001b[49m\u001b[43msublist\u001b[49m\u001b[43m \u001b[49m\u001b[38;5;129;43;01min\u001b[39;49;00m\u001b[43m \u001b[49m\u001b[43my_train\u001b[49m\u001b[43m \u001b[49m\u001b[38;5;28;43;01mfor\u001b[39;49;00m\u001b[43m \u001b[49m\u001b[43mitem\u001b[49m\u001b[43m \u001b[49m\u001b[38;5;129;43;01min\u001b[39;49;00m\u001b[43m \u001b[49m\u001b[43msublist\u001b[49m\u001b[43m]\u001b[49m\u001b[43m)\u001b[49m\n\u001b[0;32m     18\u001b[0m \u001b[38;5;66;03m# Conditional Random Fields (CRF)\u001b[39;00m\n\u001b[0;32m     19\u001b[0m crf_model \u001b[38;5;241m=\u001b[39m CRF()\n",
      "\u001b[1;31mTypeError\u001b[0m: _AbstractHMM.fit() takes from 2 to 3 positional arguments but 4 were given"
     ]
    }
   ],
   "source": [
    "import numpy as np\n",
    "from hmmlearn import hmm\n",
    "from sklearn_crfsuite import CRF\n",
    "from sklearn.model_selection import train_test_split\n",
    "from sklearn.metrics import classification_report\n",
    "# Toy dataset for sequence tagging\n",
    "X = [['walk', 'in', 'the', 'park'],\n",
    " ['eat', 'apple'],\n",
    " ['eat', 'apple', 'in', 'the', 'morning']]\n",
    "y = [['V', 'P', 'D', 'N'],\n",
    " ['V', 'N'],\n",
    " ['V', 'N', 'P', 'D', 'N']]\n",
    "# Split data into train and test sets\n",
    "X_train, X_test, y_train, y_test = train_test_split(X, y, test_size=0.2, random_state=42)\n",
    "# Hidden Markov Model (HMM)\n",
    "hmm_model = hmm.MultinomialHMM(n_components=3) # Number of states\n",
    "hmm_model.fit(np.concatenate(X_train), [len(seq) for seq in X_train], [item for sublist in y_train for item in sublist])\n",
    "# Conditional Random Fields (CRF)\n",
    "crf_model = CRF()\n",
    "crf_model.fit(X_train, y_train)\n",
    "# Evaluation\n",
    "print(\"HMM Results:\")\n",
    "hmm_pred = hmm_model.predict(np.concatenate(X_test), [len(seq) for seq in X_test])\n",
    "print(classification_report([item for sublist in y_test for item in sublist], [item for sublist in\n",
    "hmm_pred for item in sublist]))\n",
    "print(\"\\nCRF Results:\")\n",
    "crf_pred = crf_model.predict(X_test)\n",
    "print(classification_report([item for sublist in y_test for item in sublist], [item for sublist in crf_pred for item in sublist]))"
   ]
  },
  {
   "cell_type": "code",
   "execution_count": 2,
   "id": "7c7d62e5",
   "metadata": {},
   "outputs": [
    {
     "name": "stdout",
     "output_type": "stream",
     "text": [
      "Collecting hmmlearn\n",
      "  Downloading hmmlearn-0.3.3-cp311-cp311-win_amd64.whl.metadata (3.1 kB)\n",
      "Requirement already satisfied: numpy>=1.10 in c:\\users\\jughe\\appdata\\local\\programs\\python\\python311\\lib\\site-packages (from hmmlearn) (2.0.2)\n",
      "Requirement already satisfied: scikit-learn!=0.22.0,>=0.16 in c:\\users\\jughe\\appdata\\local\\programs\\python\\python311\\lib\\site-packages (from hmmlearn) (1.6.1)\n",
      "Requirement already satisfied: scipy>=0.19 in c:\\users\\jughe\\appdata\\local\\programs\\python\\python311\\lib\\site-packages (from hmmlearn) (1.15.1)\n",
      "Requirement already satisfied: joblib>=1.2.0 in c:\\users\\jughe\\appdata\\local\\programs\\python\\python311\\lib\\site-packages (from scikit-learn!=0.22.0,>=0.16->hmmlearn) (1.4.2)\n",
      "Requirement already satisfied: threadpoolctl>=3.1.0 in c:\\users\\jughe\\appdata\\local\\programs\\python\\python311\\lib\\site-packages (from scikit-learn!=0.22.0,>=0.16->hmmlearn) (3.5.0)\n",
      "Downloading hmmlearn-0.3.3-cp311-cp311-win_amd64.whl (127 kB)\n",
      "Installing collected packages: hmmlearn\n",
      "Successfully installed hmmlearn-0.3.3\n",
      "Note: you may need to restart the kernel to use updated packages.\n"
     ]
    },
    {
     "name": "stderr",
     "output_type": "stream",
     "text": [
      "\n",
      "[notice] A new release of pip is available: 25.0.1 -> 25.1.1\n",
      "[notice] To update, run: python.exe -m pip install --upgrade pip\n"
     ]
    }
   ],
   "source": [
    "\n",
    "pip install hmmlearn"
   ]
  },
  {
   "cell_type": "code",
   "execution_count": 3,
   "id": "084e5bc0",
   "metadata": {},
   "outputs": [
    {
     "name": "stdout",
     "output_type": "stream",
     "text": [
      "Note: you may need to restart the kernel to use updated packages.Collecting sklearn-crfsuite\n",
      "  Downloading sklearn_crfsuite-0.5.0-py2.py3-none-any.whl.metadata (4.9 kB)\n",
      "Collecting python-crfsuite>=0.9.7 (from sklearn-crfsuite)\n",
      "  Downloading python_crfsuite-0.9.11-cp311-cp311-win_amd64.whl.metadata (4.4 kB)\n",
      "Requirement already satisfied: scikit-learn>=0.24.0 in c:\\users\\jughe\\appdata\\local\\programs\\python\\python311\\lib\\site-packages (from sklearn-crfsuite) (1.6.1)\n",
      "Collecting tabulate>=0.4.2 (from sklearn-crfsuite)\n",
      "  Downloading tabulate-0.9.0-py3-none-any.whl.metadata (34 kB)\n",
      "Requirement already satisfied: tqdm>=2.0 in c:\\users\\jughe\\appdata\\local\\programs\\python\\python311\\lib\\site-packages (from sklearn-crfsuite) (4.67.1)\n",
      "Requirement already satisfied: numpy>=1.19.5 in c:\\users\\jughe\\appdata\\local\\programs\\python\\python311\\lib\\site-packages (from scikit-learn>=0.24.0->sklearn-crfsuite) (2.0.2)\n",
      "Requirement already satisfied: scipy>=1.6.0 in c:\\users\\jughe\\appdata\\local\\programs\\python\\python311\\lib\\site-packages (from scikit-learn>=0.24.0->sklearn-crfsuite) (1.15.1)\n",
      "Requirement already satisfied: joblib>=1.2.0 in c:\\users\\jughe\\appdata\\local\\programs\\python\\python311\\lib\\site-packages (from scikit-learn>=0.24.0->sklearn-crfsuite) (1.4.2)\n",
      "Requirement already satisfied: threadpoolctl>=3.1.0 in c:\\users\\jughe\\appdata\\local\\programs\\python\\python311\\lib\\site-packages (from scikit-learn>=0.24.0->sklearn-crfsuite) (3.5.0)\n",
      "Requirement already satisfied: colorama in c:\\users\\jughe\\appdata\\local\\programs\\python\\python311\\lib\\site-packages (from tqdm>=2.0->sklearn-crfsuite) (0.4.6)\n",
      "Downloading sklearn_crfsuite-0.5.0-py2.py3-none-any.whl (10 kB)\n",
      "Downloading python_crfsuite-0.9.11-cp311-cp311-win_amd64.whl (301 kB)\n",
      "Downloading tabulate-0.9.0-py3-none-any.whl (35 kB)\n",
      "Installing collected packages: tabulate, python-crfsuite, sklearn-crfsuite\n",
      "Successfully installed python-crfsuite-0.9.11 sklearn-crfsuite-0.5.0 tabulate-0.9.0\n",
      "\n"
     ]
    },
    {
     "name": "stderr",
     "output_type": "stream",
     "text": [
      "\n",
      "[notice] A new release of pip is available: 25.0.1 -> 25.1.1\n",
      "[notice] To update, run: python.exe -m pip install --upgrade pip\n"
     ]
    }
   ],
   "source": [
    "pip install sklearn-crfsuite"
   ]
  },
  {
   "cell_type": "code",
   "execution_count": 1,
   "id": "7cccb7dd",
   "metadata": {},
   "outputs": [
    {
     "name": "stderr",
     "output_type": "stream",
     "text": [
      "MultinomialHMM has undergone major changes. The previous version was implementing a CategoricalHMM (a special case of MultinomialHMM). This new implementation follows the standard definition for a Multinomial distribution (e.g. as in https://en.wikipedia.org/wiki/Multinomial_distribution). See these issues for details:\n",
      "https://github.com/hmmlearn/hmmlearn/issues/335\n",
      "https://github.com/hmmlearn/hmmlearn/issues/340\n",
      "Fitting a model with 8 free scalar parameters with only 7 data points will result in a degenerate solution.\n"
     ]
    },
    {
     "name": "stdout",
     "output_type": "stream",
     "text": [
      "HMM:\n",
      "               precision    recall  f1-score   support\n",
      "\n",
      "           D       0.00      0.00      0.00         1\n",
      "           N       0.50      1.00      0.67         1\n",
      "           P       0.00      0.00      0.00         1\n",
      "           V       0.00      0.00      0.00         1\n",
      "\n",
      "    accuracy                           0.25         4\n",
      "   macro avg       0.12      0.25      0.17         4\n",
      "weighted avg       0.12      0.25      0.17         4\n",
      "\n"
     ]
    },
    {
     "name": "stderr",
     "output_type": "stream",
     "text": [
      "C:\\Users\\jughe\\AppData\\Local\\Programs\\Python\\Python311\\Lib\\site-packages\\sklearn\\metrics\\_classification.py:1565: UndefinedMetricWarning: Precision is ill-defined and being set to 0.0 in labels with no predicted samples. Use `zero_division` parameter to control this behavior.\n",
      "  _warn_prf(average, modifier, f\"{metric.capitalize()} is\", len(result))\n",
      "C:\\Users\\jughe\\AppData\\Local\\Programs\\Python\\Python311\\Lib\\site-packages\\sklearn\\metrics\\_classification.py:1565: UndefinedMetricWarning: Precision is ill-defined and being set to 0.0 in labels with no predicted samples. Use `zero_division` parameter to control this behavior.\n",
      "  _warn_prf(average, modifier, f\"{metric.capitalize()} is\", len(result))\n",
      "C:\\Users\\jughe\\AppData\\Local\\Programs\\Python\\Python311\\Lib\\site-packages\\sklearn\\metrics\\_classification.py:1565: UndefinedMetricWarning: Precision is ill-defined and being set to 0.0 in labels with no predicted samples. Use `zero_division` parameter to control this behavior.\n",
      "  _warn_prf(average, modifier, f\"{metric.capitalize()} is\", len(result))\n"
     ]
    }
   ],
   "source": [
    "import numpy as np\n",
    "from hmmlearn import hmm\n",
    "from sklearn_crfsuite import CRF\n",
    "from sklearn.model_selection import train_test_split\n",
    "from sklearn.metrics import classification_report\n",
    "from sklearn.preprocessing import LabelEncoder\n",
    "\n",
    "# Data\n",
    "x = [['walk', 'in', 'the', 'park'], ['eat', 'apple'], ['eat', 'apple', 'in', 'the', 'morning']]\n",
    "y = [['V', 'P', 'D', 'N'], ['V', 'N'], ['V', 'N', 'P', 'D', 'N']]\n",
    "\n",
    "# Encode for HMM\n",
    "we, le = LabelEncoder(), LabelEncoder()\n",
    "x_flat, y_flat = [w for s in x for w in s], [t for s in y for t in s]\n",
    "x_enc, y_enc = [we.fit_transform(x_flat)], [le.fit_transform(y_flat)]\n",
    "\n",
    "# Split\n",
    "x_train, x_test, y_train, y_test = train_test_split(x, y, test_size=0.33, random_state=42)\n",
    "xh_train = np.concatenate([we.transform(s) for s in x_train]).reshape(-1, 1)\n",
    "lengths = [len(s) for s in x_train]\n",
    "\n",
    "# HMM\n",
    "model_hmm = hmm.MultinomialHMM(n_components=3, n_iter=100)\n",
    "model_hmm.fit(xh_train, lengths)\n",
    "xh_test = np.concatenate([we.transform(s) for s in x_test]).reshape(-1, 1)\n",
    "pred_hmm = model_hmm.predict(xh_test)\n",
    "\n",
    "# Flatten true/pred\n",
    "y_test_flat = le.transform([t for s in y_test for t in s])\n",
    "\n",
    "y_test_labels = le.inverse_transform(y_test_flat)\n",
    "pred_labels = le.inverse_transform(pred_hmm)\n",
    "\n",
    "# Print the classification report with label names\n",
    "print(\"HMM:\\n\", classification_report(y_test_labels, pred_labels, labels=le.classes_))\n",
    "\n",
    "\n",
    "\n",
    "\n"
   ]
  },
  {
   "cell_type": "code",
   "execution_count": 3,
   "id": "d6619524",
   "metadata": {},
   "outputs": [
    {
     "name": "stdout",
     "output_type": "stream",
     "text": [
      "CRF:\n",
      "               precision    recall  f1-score   support\n",
      "\n",
      "           D       1.00      1.00      1.00         1\n",
      "           N       0.50      1.00      0.67         1\n",
      "           P       1.00      1.00      1.00         1\n",
      "           V       0.00      0.00      0.00         1\n",
      "\n",
      "    accuracy                           0.75         4\n",
      "   macro avg       0.62      0.75      0.67         4\n",
      "weighted avg       0.62      0.75      0.67         4\n",
      "\n"
     ]
    },
    {
     "name": "stderr",
     "output_type": "stream",
     "text": [
      "C:\\Users\\jughe\\AppData\\Local\\Programs\\Python\\Python311\\Lib\\site-packages\\sklearn\\metrics\\_classification.py:1565: UndefinedMetricWarning: Precision is ill-defined and being set to 0.0 in labels with no predicted samples. Use `zero_division` parameter to control this behavior.\n",
      "  _warn_prf(average, modifier, f\"{metric.capitalize()} is\", len(result))\n",
      "C:\\Users\\jughe\\AppData\\Local\\Programs\\Python\\Python311\\Lib\\site-packages\\sklearn\\metrics\\_classification.py:1565: UndefinedMetricWarning: Precision is ill-defined and being set to 0.0 in labels with no predicted samples. Use `zero_division` parameter to control this behavior.\n",
      "  _warn_prf(average, modifier, f\"{metric.capitalize()} is\", len(result))\n",
      "C:\\Users\\jughe\\AppData\\Local\\Programs\\Python\\Python311\\Lib\\site-packages\\sklearn\\metrics\\_classification.py:1565: UndefinedMetricWarning: Precision is ill-defined and being set to 0.0 in labels with no predicted samples. Use `zero_division` parameter to control this behavior.\n",
      "  _warn_prf(average, modifier, f\"{metric.capitalize()} is\", len(result))\n"
     ]
    }
   ],
   "source": [
    "# CRF\n",
    "def feats(sent): \n",
    "    return [{'word': w} for w in sent]\n",
    "\n",
    "xf_train = [feats(s) for s in x_train]\n",
    "xf_test = [feats(s) for s in x_test]\n",
    "crf = CRF()\n",
    "crf.fit(xf_train, y_train)\n",
    "pred_crf = crf.predict(xf_test)\n",
    "\n",
    "print(\"CRF:\\n\", classification_report(\n",
    "    [t for s in y_test for t in s],\n",
    "    [t for s in pred_crf for t in s]\n",
    "))"
   ]
  },
  {
   "cell_type": "code",
   "execution_count": null,
   "id": "ef0df847",
   "metadata": {},
   "outputs": [],
   "source": []
  }
 ],
 "metadata": {
  "kernelspec": {
   "display_name": "Python 3 (ipykernel)",
   "language": "python",
   "name": "python3"
  },
  "language_info": {
   "codemirror_mode": {
    "name": "ipython",
    "version": 3
   },
   "file_extension": ".py",
   "mimetype": "text/x-python",
   "name": "python",
   "nbconvert_exporter": "python",
   "pygments_lexer": "ipython3",
   "version": "3.11.1"
  }
 },
 "nbformat": 4,
 "nbformat_minor": 5
}
