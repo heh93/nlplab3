{
 "cells": [
  {
   "cell_type": "code",
   "execution_count": 7,
   "id": "f2c59aaa",
   "metadata": {},
   "outputs": [
    {
     "name": "stdout",
     "output_type": "stream",
     "text": [
      "Lemmatization:\n",
      "['tokenization', 'process', 'breaking', 'text', 'word', 'phrase', 'stemming', 'lemmatization', 'technique', 'used', 'reduce', 'word', 'base', 'form']\n",
      "\n",
      "Stemming:\n",
      "['token', 'process', 'break', 'text', 'word', 'phrase', 'stem', 'lemmat', 'techniqu', 'use', 'reduc', 'word', 'base', 'form']\n"
     ]
    },
    {
     "name": "stderr",
     "output_type": "stream",
     "text": [
      "[nltk_data] Downloading package punkt to\n",
      "[nltk_data]     C:\\Users\\jughe\\AppData\\Roaming\\nltk_data...\n",
      "[nltk_data]   Package punkt is already up-to-date!\n",
      "[nltk_data] Downloading package wordnet to\n",
      "[nltk_data]     C:\\Users\\jughe\\AppData\\Roaming\\nltk_data...\n",
      "[nltk_data]   Package wordnet is already up-to-date!\n",
      "[nltk_data] Downloading package stopwords to\n",
      "[nltk_data]     C:\\Users\\jughe\\AppData\\Roaming\\nltk_data...\n",
      "[nltk_data]   Package stopwords is already up-to-date!\n"
     ]
    }
   ],
   "source": [
    "import nltk\n",
    "from nltk.tokenize import word_tokenize\n",
    "from nltk.stem import WordNetLemmatizer, PorterStemmer\n",
    "from nltk.corpus import stopwords\n",
    "import string\n",
    "nltk.download('punkt')\n",
    "nltk.download('wordnet')\n",
    "nltk.download('stopwords')\n",
    "def preprocess_text(text):\n",
    " # Tokenization\n",
    " tokens = word_tokenize(text.lower())\n",
    " # Remove punctuation\n",
    " tokens = [token for token in tokens if token not in string.punctuation]\n",
    " # Remove stopwords\n",
    " stop_words = set(stopwords.words('english'))\n",
    " tokens = [token for token in tokens if token not in stop_words]\n",
    " return tokens\n",
    "def lemmatize(tokens):\n",
    " lemmatizer = WordNetLemmatizer()\n",
    " lemmas = [lemmatizer.lemmatize(token) for token in tokens]\n",
    " return lemmas\n",
    "def stem(tokens):\n",
    " stemmer = PorterStemmer()\n",
    " stems = [stemmer.stem(token) for token in tokens]\n",
    " return stems\n",
    "def main():\n",
    " # Sample text\n",
    " text = \"Tokenization is the process of breaking down text into words and phrases. Stemming and Lemmatization are techniques used to reduce words to their base form.\"\n",
    " # Preprocess text \n",
    " tokens = preprocess_text(text)\n",
    " # Lemmatization\n",
    " lemmas = lemmatize(tokens)\n",
    " print(\"Lemmatization:\")\n",
    " print(lemmas)\n",
    " # Stemming\n",
    " stems = stem(tokens)\n",
    " print(\"\\nStemming:\")\n",
    " print(stems)\n",
    "    \n",
    "if __name__ == \"__main__\":\n",
    "    main()\n"
   ]
  },
  {
   "cell_type": "code",
   "execution_count": null,
   "id": "89a4caab",
   "metadata": {},
   "outputs": [],
   "source": []
  }
 ],
 "metadata": {
  "kernelspec": {
   "display_name": "Python 3 (ipykernel)",
   "language": "python",
   "name": "python3"
  },
  "language_info": {
   "codemirror_mode": {
    "name": "ipython",
    "version": 3
   },
   "file_extension": ".py",
   "mimetype": "text/x-python",
   "name": "python",
   "nbconvert_exporter": "python",
   "pygments_lexer": "ipython3",
   "version": "3.11.1"
  }
 },
 "nbformat": 4,
 "nbformat_minor": 5
}
