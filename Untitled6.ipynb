{
 "cells": [
  {
   "cell_type": "code",
   "execution_count": 1,
   "id": "61148130",
   "metadata": {},
   "outputs": [
    {
     "name": "stdout",
     "output_type": "stream",
     "text": [
      "Cluster 1:\n",
      "['drive', 'scsi', 'ide', 'drives', 'controller']\n",
      "Cluster 2:\n",
      "['edu', 'people', 'don', 'com', 'just']\n",
      "Cluster 3:\n",
      "['game', 'team', 'ca', 'hockey', 'games']\n",
      "Cluster 4:\n",
      "['andrew', 'cmu', 'edu', 'pittsburgh', 'host']\n",
      "Cluster 5:\n",
      "['access', 'digex', 'pat', 'net', 'communications']\n",
      "Cluster 6:\n",
      "['gun', 'fbi', 'batf', 'koresh', 'guns']\n",
      "Cluster 7:\n",
      "['org', 'writes', 'article', 'edu', 'lines']\n",
      "Cluster 8:\n",
      "['windows', 'edu', 'file', 'card', 'thanks']\n",
      "Cluster 9:\n",
      "['uiuc', 'cso', 'edu', 'henry', 'illinois']\n",
      "Cluster 10:\n",
      "['israel', 'israeli', 'jews', 'armenian', 'turkish']\n",
      "Cluster 11:\n",
      "['edu', 'university', 'host', 'nntp', 'posting']\n",
      "Cluster 12:\n",
      "['god', 'jesus', 'bible', 'christian', 'christ']\n",
      "Cluster 13:\n",
      "['cs', 'edu', 'pitt', 'ohio', 'science']\n",
      "Cluster 14:\n",
      "['com', 'netcom', 'writes', 'article', 'subject']\n",
      "Cluster 15:\n",
      "['sale', '00', 'edu', 'offer', 'condition']\n",
      "Cluster 16:\n",
      "['hp', 'com', 'edu', 'organization', 'lines']\n",
      "Cluster 17:\n",
      "['bike', 'dod', 'com', 'edu', 'ca']\n",
      "Cluster 18:\n",
      "['nasa', 'gov', 'space', 'edu', 'center']\n",
      "Cluster 19:\n",
      "['key', 'clipper', 'encryption', 'chip', 'keys']\n",
      "Cluster 20:\n",
      "['uk', 'ac', 'university', 'writes', 'subject']\n"
     ]
    }
   ],
   "source": [
    "import numpy as np\n",
    "from sklearn.feature_extraction.text import TfidfVectorizer\n",
    "from sklearn.cluster import KMeans\n",
    "from sklearn.datasets import fetch_20newsgroups\n",
    "# Load the 20 newsgroups dataset (a sample dataset included in scikit-learn)\n",
    "newsgroups = fetch_20newsgroups(subset='all')\n",
    "# Vectorize the text data using TF-IDF representation\n",
    "vectorizer = TfidfVectorizer(stop_words='english', max_features=1000)\n",
    "X = vectorizer.fit_transform(newsgroups.data)\n",
    "# Perform K-means clustering\n",
    "k = 20 # Number of clusters (you can adjust this)\n",
    "kmeans = KMeans(n_clusters=k, random_state=42)\n",
    "kmeans.fit(X)\n",
    "terms = vectorizer.get_feature_names_out()\n",
    "order_centroids = kmeans.cluster_centers_.argsort()[:, ::-1]\n",
    "for i in range(k):\n",
    " print(f\"Cluster {i + 1}:\")\n",
    " top_terms = [terms[ind] for ind in order_centroids[i, :5]]\n",
    " print(top_terms)"
   ]
  },
  {
   "cell_type": "code",
   "execution_count": null,
   "id": "1eca21a1",
   "metadata": {},
   "outputs": [],
   "source": []
  }
 ],
 "metadata": {
  "kernelspec": {
   "display_name": "Python 3 (ipykernel)",
   "language": "python",
   "name": "python3"
  },
  "language_info": {
   "codemirror_mode": {
    "name": "ipython",
    "version": 3
   },
   "file_extension": ".py",
   "mimetype": "text/x-python",
   "name": "python",
   "nbconvert_exporter": "python",
   "pygments_lexer": "ipython3",
   "version": "3.11.1"
  }
 },
 "nbformat": 4,
 "nbformat_minor": 5
}
